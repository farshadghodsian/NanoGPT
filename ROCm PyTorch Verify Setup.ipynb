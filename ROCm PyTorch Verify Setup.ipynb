{
 "cells": [
  {
   "cell_type": "markdown",
   "id": "e74da24f-4c2f-4791-9b91-3e1d950a90f7",
   "metadata": {},
   "source": [
    "# Verify ROCm and PyTorch Setup"
   ]
  },
  {
   "cell_type": "code",
   "execution_count": 10,
   "id": "8c9fe1e3-2a04-4f6a-b199-42f417a4652a",
   "metadata": {},
   "outputs": [],
   "source": [
    "import torch"
   ]
  },
  {
   "cell_type": "code",
   "execution_count": 11,
   "id": "0dadc66d-2908-4b60-b606-de74e3ce964e",
   "metadata": {},
   "outputs": [
    {
     "data": {
      "text/plain": [
       "True"
      ]
     },
     "execution_count": 11,
     "metadata": {},
     "output_type": "execute_result"
    }
   ],
   "source": [
    "torch.cuda.is_available()"
   ]
  },
  {
   "cell_type": "code",
   "execution_count": 12,
   "id": "cb413825-7396-4f2c-ac7d-8c47e3674675",
   "metadata": {},
   "outputs": [
    {
     "name": "stdout",
     "output_type": "stream",
     "text": [
      "device name [0]: AMD Radeon PRO W7900\n"
     ]
    }
   ],
   "source": [
    "print(f'device name [0]:', torch.cuda.get_device_name(0))"
   ]
  },
  {
   "cell_type": "code",
   "execution_count": 14,
   "id": "1eb55afc-c453-45e3-9fb4-39dd0900e364",
   "metadata": {},
   "outputs": [
    {
     "name": "stdout",
     "output_type": "stream",
     "text": [
      "GPU  POWER  GPU_TEMP  MEM_TEMP  GFX_UTIL  GFX_CLOCK  MEM_UTIL  MEM_CLOCK  ENC_UTIL  ENC_CLOCK  DEC_UTIL  DEC_CLOCK     THROTTLE  SINGLE_ECC  DOUBLE_ECC  PCIE_REPLAY  VRAM_USED  VRAM_TOTAL   PCIE_BW\n",
      "  0   22 W     41 °C     48 °C       0 %      0 MHz       0 %     96 MHz       N/A     25 MHz       N/A     25 MHz  UNTHROTTLED           0           0            0      26 MB    46029 MB  N/A Mb/s\n"
     ]
    }
   ],
   "source": [
    "!amd-smi monitor"
   ]
  },
  {
   "cell_type": "code",
   "execution_count": 15,
   "id": "c8af407d-b19c-4b48-a1b3-8982943602a2",
   "metadata": {},
   "outputs": [
    {
     "name": "stdout",
     "output_type": "stream",
     "text": [
      "\n",
      "\n",
      "======================================== ROCm System Management Interface ========================================\n",
      "================================================== Concise Info ==================================================\n",
      "Device  Node  IDs              Temp    Power  Partitions          SCLK  MCLK   Fan    Perf  PwrCap  VRAM%  GPU%  \n",
      "\u001b[3m              (DID,     GUID)  (Edge)  (Avg)  (Mem, Compute, ID)                                                 \u001b[0m\n",
      "==================================================================================================================\n",
      "0       1     0x7448,   48892  34.0°C  25.0W  N/A, N/A, 0         0Mhz  96Mhz  20.0%  auto  241.0W  0%     0%    \n",
      "==================================================================================================================\n",
      "============================================== End of ROCm SMI Log ===============================================\n"
     ]
    }
   ],
   "source": [
    "!rocm-smi"
   ]
  },
  {
   "cell_type": "code",
   "execution_count": 13,
   "id": "64e48788-3360-425f-8ecc-3f4be3d7a2b0",
   "metadata": {
    "jupyter": {
     "source_hidden": true
    }
   },
   "outputs": [
    {
     "name": "stdout",
     "output_type": "stream",
     "text": [
      "<frozen runpy>:128: RuntimeWarning: 'torch.utils.collect_env' found in sys.modules after import of package 'torch.utils', but prior to execution of 'torch.utils.collect_env'; this may result in unpredictable behaviour\n",
      "Collecting environment information...\n",
      "PyTorch version: 2.5.0.dev20240702+rocm6.1\n",
      "Is debug build: False\n",
      "CUDA used to build PyTorch: N/A\n",
      "ROCM used to build PyTorch: 6.1.40091-a8dbc0c19\n",
      "\n",
      "OS: Ubuntu 22.04.4 LTS (x86_64)\n",
      "GCC version: (Ubuntu 11.4.0-1ubuntu1~22.04) 11.4.0\n",
      "Clang version: Could not collect\n",
      "CMake version: Could not collect\n",
      "Libc version: glibc-2.35\n",
      "\n",
      "Python version: 3.11.9 | packaged by conda-forge | (main, Apr 19 2024, 18:36:13) [GCC 12.3.0] (64-bit runtime)\n",
      "Python platform: Linux-6.5.0-41-generic-x86_64-with-glibc2.35\n",
      "Is CUDA available: True\n",
      "CUDA runtime version: Could not collect\n",
      "CUDA_MODULE_LOADING set to: LAZY\n",
      "GPU models and configuration: AMD Radeon PRO W7900 (gfx1100)\n",
      "Nvidia driver version: Could not collect\n",
      "cuDNN version: Could not collect\n",
      "HIP runtime version: 6.1.40091\n",
      "MIOpen runtime version: 3.1.0\n",
      "Is XNNPACK available: True\n",
      "\n",
      "CPU:\n",
      "Architecture:                       x86_64\n",
      "CPU op-mode(s):                     32-bit, 64-bit\n",
      "Address sizes:                      48 bits physical, 48 bits virtual\n",
      "Byte Order:                         Little Endian\n",
      "CPU(s):                             64\n",
      "On-line CPU(s) list:                0-63\n",
      "Vendor ID:                          AuthenticAMD\n",
      "Model name:                         AMD Ryzen Threadripper PRO 5975WX 32-Cores\n",
      "CPU family:                         25\n",
      "Model:                              8\n",
      "Thread(s) per core:                 2\n",
      "Core(s) per socket:                 32\n",
      "Socket(s):                          1\n",
      "Stepping:                           2\n",
      "Frequency boost:                    enabled\n",
      "CPU max MHz:                        7006.6401\n",
      "CPU min MHz:                        1800.0000\n",
      "BogoMIPS:                           7186.56\n",
      "Flags:                              fpu vme de pse tsc msr pae mce cx8 apic sep mtrr pge mca cmov pat pse36 clflush mmx fxsr sse sse2 ht syscall nx mmxext fxsr_opt pdpe1gb rdtscp lm constant_tsc rep_good nopl nonstop_tsc cpuid extd_apicid aperfmperf rapl pni pclmulqdq monitor ssse3 fma cx16 pcid sse4_1 sse4_2 x2apic movbe popcnt aes xsave avx f16c rdrand lahf_lm cmp_legacy svm extapic cr8_legacy abm sse4a misalignsse 3dnowprefetch osvw ibs skinit wdt tce topoext perfctr_core perfctr_nb bpext perfctr_llc mwaitx cpb cat_l3 cdp_l3 invpcid_single hw_pstate ssbd mba ibrs ibpb stibp vmmcall fsgsbase bmi1 avx2 smep bmi2 erms invpcid cqm rdt_a rdseed adx smap clflushopt clwb sha_ni xsaveopt xsavec xgetbv1 xsaves cqm_llc cqm_occup_llc cqm_mbm_total cqm_mbm_local clzero irperf xsaveerptr rdpru wbnoinvd amd_ppin brs arat npt lbrv svm_lock nrip_save tsc_scale vmcb_clean flushbyasid decodeassists pausefilter pfthreshold avic v_vmsave_vmload vgif v_spec_ctrl umip pku ospke vaes vpclmulqdq rdpid overflow_recov succor smca fsrm\n",
      "Virtualization:                     AMD-V\n",
      "L1d cache:                          1 MiB (32 instances)\n",
      "L1i cache:                          1 MiB (32 instances)\n",
      "L2 cache:                           16 MiB (32 instances)\n",
      "L3 cache:                           128 MiB (4 instances)\n",
      "NUMA node(s):                       1\n",
      "NUMA node0 CPU(s):                  0-63\n",
      "Vulnerability Gather data sampling: Not affected\n",
      "Vulnerability Itlb multihit:        Not affected\n",
      "Vulnerability L1tf:                 Not affected\n",
      "Vulnerability Mds:                  Not affected\n",
      "Vulnerability Meltdown:             Not affected\n",
      "Vulnerability Mmio stale data:      Not affected\n",
      "Vulnerability Retbleed:             Not affected\n",
      "Vulnerability Spec rstack overflow: Vulnerable: Safe RET, no microcode\n",
      "Vulnerability Spec store bypass:    Mitigation; Speculative Store Bypass disabled via prctl\n",
      "Vulnerability Spectre v1:           Mitigation; usercopy/swapgs barriers and __user pointer sanitization\n",
      "Vulnerability Spectre v2:           Mitigation; Retpolines; IBPB conditional; IBRS_FW; STIBP always-on; RSB filling; PBRSB-eIBRS Not affected; BHI Not affected\n",
      "Vulnerability Srbds:                Not affected\n",
      "Vulnerability Tsx async abort:      Not affected\n",
      "\n",
      "Versions of relevant libraries:\n",
      "[pip3] numpy==1.26.4\n",
      "[pip3] pytorch-triton-rocm==3.0.0+01cbe5045a\n",
      "[pip3] torch==2.5.0.dev20240702+rocm6.1\n",
      "[pip3] torchaudio==2.4.0.dev20240703+rocm6.1\n",
      "[pip3] torchvision==0.20.0.dev20240703+rocm6.1\n",
      "[conda] nomkl                     1.0                  h5ca1d4c_0    conda-forge\n",
      "[conda] numpy                     1.26.4          py311h64a7726_0    conda-forge\n",
      "[conda] pytorch-triton-rocm       3.0.0+01cbe5045a          pypi_0    pypi\n",
      "[conda] torch                     2.5.0.dev20240702+rocm6.1          pypi_0    pypi\n",
      "[conda] torchaudio                2.4.0.dev20240703+rocm6.1          pypi_0    pypi\n",
      "[conda] torchvision               0.20.0.dev20240703+rocm6.1          pypi_0    pypi\n"
     ]
    }
   ],
   "source": [
    "!python3 -m torch.utils.collect_env"
   ]
  },
  {
   "cell_type": "code",
   "execution_count": null,
   "id": "2e6d9eb7-ba07-4af3-8e4d-642eb7937360",
   "metadata": {},
   "outputs": [],
   "source": []
  }
 ],
 "metadata": {
  "kernelspec": {
   "display_name": "Python 3 (ipykernel)",
   "language": "python",
   "name": "python3"
  },
  "language_info": {
   "codemirror_mode": {
    "name": "ipython",
    "version": 3
   },
   "file_extension": ".py",
   "mimetype": "text/x-python",
   "name": "python",
   "nbconvert_exporter": "python",
   "pygments_lexer": "ipython3",
   "version": "3.11.9"
  }
 },
 "nbformat": 4,
 "nbformat_minor": 5
}
